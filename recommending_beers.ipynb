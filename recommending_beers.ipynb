{
  "nbformat": 4,
  "nbformat_minor": 0,
  "metadata": {
    "kernelspec": {
      "display_name": "Python 3",
      "language": "python",
      "name": "python3"
    },
    "language_info": {
      "codemirror_mode": {
        "name": "ipython",
        "version": 3
      },
      "file_extension": ".py",
      "mimetype": "text/x-python",
      "name": "python",
      "nbconvert_exporter": "python",
      "pygments_lexer": "ipython3",
      "version": "3.7.7"
    },
    "colab": {
      "name": "recommending-beers.ipynb",
      "provenance": [],
      "collapsed_sections": [],
      "include_colab_link": true
    },
    "accelerator": "GPU"
  },
  "cells": [
    {
      "cell_type": "markdown",
      "metadata": {
        "id": "view-in-github",
        "colab_type": "text"
      },
      "source": [
        "<a href=\"https://colab.research.google.com/github/orlandochr/cervezaatesanal/blob/main/recommending_beers.ipynb\" target=\"_parent\"><img src=\"https://colab.research.google.com/assets/colab-badge.svg\" alt=\"Open In Colab\"/></a>"
      ]
    },
    {
      "cell_type": "markdown",
      "metadata": {
        "id": "csZDKIiOgnBk"
      },
      "source": [
        "Análisis de Dataset sobre Reviews de Cervezas para determinar recomendación sobre carácterísticas como Porcentaje de Alcohol, Sabor, Aroma Apareincia etc. \n",
        "\n",
        "Proyecto Final Dplomado Machine Learning.\n",
        "\n",
        "Orlando Chaparro"
      ]
    },
    {
      "cell_type": "markdown",
      "metadata": {
        "_uuid": "c630de5ca8daafbde03ac9c2cdce083605e046ff",
        "id": "Zx1y9ajRT8Y1"
      },
      "source": [
        "Recomendación de Cervezas\n",
        "\n",
        "\n",
        "Notebook Original in https://www.kaggle.com/fabiancpl/recommending-beers \n",
        "\n",
        "Dato Original en in: https://www.kaggle.com/rdoume/beerreviews\n",
        "\n",
        "Metodología y esquema de experimentación badada en: https://www.slideshare.net/tanyacash/strata-2017-nyc-how-to-hire-and-test-for-data-skills-a-onesizefitsall-interview-kit"
      ]
    },
    {
      "cell_type": "markdown",
      "metadata": {
        "id": "kUT6k9mwYdTS"
      },
      "source": [
        "Importación de librerías"
      ]
    },
    {
      "cell_type": "code",
      "metadata": {
        "_uuid": "d1e82513697f8ac7a7cd6e9385969db0856594a1",
        "id": "N8mNwNNlT8Y2"
      },
      "source": [
        "import math\n",
        "import numpy as np\n",
        "import pandas as pd\n",
        "import pandas_profiling\n",
        "import matplotlib.pyplot as plt\n",
        "import seaborn as sns\n",
        "%matplotlib inline\n",
        "\n",
        "from sklearn.linear_model import LinearRegression\n",
        "from sklearn.metrics import mean_squared_error"
      ],
      "execution_count": 1,
      "outputs": []
    },
    {
      "cell_type": "code",
      "metadata": {
        "_uuid": "8843409b55ee3485446a515fa36025a1d1fe2374",
        "id": "G6XI4Vp9T8Y6"
      },
      "source": [
        "pd.options.display.max_rows = 1000\n",
        "pd.options.display.max_columns = 1000"
      ],
      "execution_count": 2,
      "outputs": []
    },
    {
      "cell_type": "markdown",
      "metadata": {
        "_uuid": "da7ea6963b9b6c30fab6bb0db44569850118b04a",
        "id": "Xoat1KfYT8Y9"
      },
      "source": [
        "# Carga de Datos y analisis de exploratorio de la información"
      ]
    },
    {
      "cell_type": "code",
      "metadata": {
        "id": "sGmgYd0sbnhj",
        "outputId": "0604aaac-7cfb-422e-e215-0b0e8a4a8323",
        "colab": {
          "base_uri": "https://localhost:8080/"
        }
      },
      "source": [
        "from google.colab import drive\n",
        "drive.mount('/content/drive/')  "
      ],
      "execution_count": 3,
      "outputs": [
        {
          "output_type": "stream",
          "text": [
            "Drive already mounted at /content/drive/; to attempt to forcibly remount, call drive.mount(\"/content/drive/\", force_remount=True).\n"
          ],
          "name": "stdout"
        }
      ]
    },
    {
      "cell_type": "code",
      "metadata": {
        "_uuid": "e90b71069561bbc5bd661ece39863244167ac749",
        "id": "Oa1U7nHJT8Y-"
      },
      "source": [
        "beers_df = pd.read_csv('/content/drive/My Drive/beer_review/data/beer_reviews.csv')\n",
        " "
      ],
      "execution_count": 4,
      "outputs": []
    },
    {
      "cell_type": "code",
      "metadata": {
        "_uuid": "3a4ab68bcdeb5169829f5a0cef0409bed722d4ab",
        "id": "AWGbiPi_T8ZA",
        "outputId": "5b334088-4f05-4e2e-c73b-b1a3dba09e73",
        "colab": {
          "base_uri": "https://localhost:8080/"
        }
      },
      "source": [
        "beers_df.shape"
      ],
      "execution_count": 5,
      "outputs": [
        {
          "output_type": "execute_result",
          "data": {
            "text/plain": [
              "(1586614, 13)"
            ]
          },
          "metadata": {
            "tags": []
          },
          "execution_count": 5
        }
      ]
    },
    {
      "cell_type": "code",
      "metadata": {
        "_uuid": "044fc7357873e772d9d6b5607d6bfebc1ad2cf88",
        "id": "Nhq38k-VT8ZF"
      },
      "source": [
        "beers_df[ 'review_time' ] = pd.to_datetime( beers_df[ 'review_time' ], unit = 's' )"
      ],
      "execution_count": 6,
      "outputs": []
    },
    {
      "cell_type": "code",
      "metadata": {
        "_uuid": "7cdfa30e38ba8c77d12923ae369a3df4e2f08923",
        "id": "RCOT29dST8ZI",
        "outputId": "742417f0-e750-4404-f643-c23455527721",
        "colab": {
          "base_uri": "https://localhost:8080/",
          "height": 204
        }
      },
      "source": [
        "beers_df.head()"
      ],
      "execution_count": 7,
      "outputs": [
        {
          "output_type": "execute_result",
          "data": {
            "text/html": [
              "<div>\n",
              "<style scoped>\n",
              "    .dataframe tbody tr th:only-of-type {\n",
              "        vertical-align: middle;\n",
              "    }\n",
              "\n",
              "    .dataframe tbody tr th {\n",
              "        vertical-align: top;\n",
              "    }\n",
              "\n",
              "    .dataframe thead th {\n",
              "        text-align: right;\n",
              "    }\n",
              "</style>\n",
              "<table border=\"1\" class=\"dataframe\">\n",
              "  <thead>\n",
              "    <tr style=\"text-align: right;\">\n",
              "      <th></th>\n",
              "      <th>brewery_id</th>\n",
              "      <th>brewery_name</th>\n",
              "      <th>review_time</th>\n",
              "      <th>review_overall</th>\n",
              "      <th>review_aroma</th>\n",
              "      <th>review_appearance</th>\n",
              "      <th>review_profilename</th>\n",
              "      <th>beer_style</th>\n",
              "      <th>review_palate</th>\n",
              "      <th>review_taste</th>\n",
              "      <th>beer_name</th>\n",
              "      <th>beer_abv</th>\n",
              "      <th>beer_beerid</th>\n",
              "    </tr>\n",
              "  </thead>\n",
              "  <tbody>\n",
              "    <tr>\n",
              "      <th>0</th>\n",
              "      <td>10325</td>\n",
              "      <td>Vecchio Birraio</td>\n",
              "      <td>2009-02-16 20:57:03</td>\n",
              "      <td>1.5</td>\n",
              "      <td>2.0</td>\n",
              "      <td>2.5</td>\n",
              "      <td>stcules</td>\n",
              "      <td>Hefeweizen</td>\n",
              "      <td>1.5</td>\n",
              "      <td>1.5</td>\n",
              "      <td>Sausa Weizen</td>\n",
              "      <td>5.0</td>\n",
              "      <td>47986</td>\n",
              "    </tr>\n",
              "    <tr>\n",
              "      <th>1</th>\n",
              "      <td>10325</td>\n",
              "      <td>Vecchio Birraio</td>\n",
              "      <td>2009-03-01 13:44:57</td>\n",
              "      <td>3.0</td>\n",
              "      <td>2.5</td>\n",
              "      <td>3.0</td>\n",
              "      <td>stcules</td>\n",
              "      <td>English Strong Ale</td>\n",
              "      <td>3.0</td>\n",
              "      <td>3.0</td>\n",
              "      <td>Red Moon</td>\n",
              "      <td>6.2</td>\n",
              "      <td>48213</td>\n",
              "    </tr>\n",
              "    <tr>\n",
              "      <th>2</th>\n",
              "      <td>10325</td>\n",
              "      <td>Vecchio Birraio</td>\n",
              "      <td>2009-03-01 14:10:04</td>\n",
              "      <td>3.0</td>\n",
              "      <td>2.5</td>\n",
              "      <td>3.0</td>\n",
              "      <td>stcules</td>\n",
              "      <td>Foreign / Export Stout</td>\n",
              "      <td>3.0</td>\n",
              "      <td>3.0</td>\n",
              "      <td>Black Horse Black Beer</td>\n",
              "      <td>6.5</td>\n",
              "      <td>48215</td>\n",
              "    </tr>\n",
              "    <tr>\n",
              "      <th>3</th>\n",
              "      <td>10325</td>\n",
              "      <td>Vecchio Birraio</td>\n",
              "      <td>2009-02-15 19:12:25</td>\n",
              "      <td>3.0</td>\n",
              "      <td>3.0</td>\n",
              "      <td>3.5</td>\n",
              "      <td>stcules</td>\n",
              "      <td>German Pilsener</td>\n",
              "      <td>2.5</td>\n",
              "      <td>3.0</td>\n",
              "      <td>Sausa Pils</td>\n",
              "      <td>5.0</td>\n",
              "      <td>47969</td>\n",
              "    </tr>\n",
              "    <tr>\n",
              "      <th>4</th>\n",
              "      <td>1075</td>\n",
              "      <td>Caldera Brewing Company</td>\n",
              "      <td>2010-12-30 18:53:26</td>\n",
              "      <td>4.0</td>\n",
              "      <td>4.5</td>\n",
              "      <td>4.0</td>\n",
              "      <td>johnmichaelsen</td>\n",
              "      <td>American Double / Imperial IPA</td>\n",
              "      <td>4.0</td>\n",
              "      <td>4.5</td>\n",
              "      <td>Cauldron DIPA</td>\n",
              "      <td>7.7</td>\n",
              "      <td>64883</td>\n",
              "    </tr>\n",
              "  </tbody>\n",
              "</table>\n",
              "</div>"
            ],
            "text/plain": [
              "   brewery_id             brewery_name         review_time  review_overall  \\\n",
              "0       10325          Vecchio Birraio 2009-02-16 20:57:03             1.5   \n",
              "1       10325          Vecchio Birraio 2009-03-01 13:44:57             3.0   \n",
              "2       10325          Vecchio Birraio 2009-03-01 14:10:04             3.0   \n",
              "3       10325          Vecchio Birraio 2009-02-15 19:12:25             3.0   \n",
              "4        1075  Caldera Brewing Company 2010-12-30 18:53:26             4.0   \n",
              "\n",
              "   review_aroma  review_appearance review_profilename  \\\n",
              "0           2.0                2.5            stcules   \n",
              "1           2.5                3.0            stcules   \n",
              "2           2.5                3.0            stcules   \n",
              "3           3.0                3.5            stcules   \n",
              "4           4.5                4.0     johnmichaelsen   \n",
              "\n",
              "                       beer_style  review_palate  review_taste  \\\n",
              "0                      Hefeweizen            1.5           1.5   \n",
              "1              English Strong Ale            3.0           3.0   \n",
              "2          Foreign / Export Stout            3.0           3.0   \n",
              "3                 German Pilsener            2.5           3.0   \n",
              "4  American Double / Imperial IPA            4.0           4.5   \n",
              "\n",
              "                beer_name  beer_abv  beer_beerid  \n",
              "0            Sausa Weizen       5.0        47986  \n",
              "1                Red Moon       6.2        48213  \n",
              "2  Black Horse Black Beer       6.5        48215  \n",
              "3              Sausa Pils       5.0        47969  \n",
              "4           Cauldron DIPA       7.7        64883  "
            ]
          },
          "metadata": {
            "tags": []
          },
          "execution_count": 7
        }
      ]
    },
    {
      "cell_type": "code",
      "metadata": {
        "_uuid": "e06ec68d716b55097e8b9f0274cb39f069613f97",
        "id": "n7R1BnwbT8ZK",
        "outputId": "5d07cb1c-5862-41a0-917b-abc8939bd0a9",
        "colab": {
          "base_uri": "https://localhost:8080/"
        }
      },
      "source": [
        "beers_df.dtypes"
      ],
      "execution_count": 8,
      "outputs": [
        {
          "output_type": "execute_result",
          "data": {
            "text/plain": [
              "brewery_id                     int64\n",
              "brewery_name                  object\n",
              "review_time           datetime64[ns]\n",
              "review_overall               float64\n",
              "review_aroma                 float64\n",
              "review_appearance            float64\n",
              "review_profilename            object\n",
              "beer_style                    object\n",
              "review_palate                float64\n",
              "review_taste                 float64\n",
              "beer_name                     object\n",
              "beer_abv                     float64\n",
              "beer_beerid                    int64\n",
              "dtype: object"
            ]
          },
          "metadata": {
            "tags": []
          },
          "execution_count": 8
        }
      ]
    },
    {
      "cell_type": "code",
      "metadata": {
        "_uuid": "1acc97f4b6ccd9a817e74fded60623eff16a41ae",
        "id": "djNhFATeT8ZO"
      },
      "source": [
        "#pandas_profiling.ProfileReport( beers_df )"
      ],
      "execution_count": 9,
      "outputs": []
    },
    {
      "cell_type": "code",
      "metadata": {
        "_uuid": "091225634bf71eabc6187ad723655f9e86388bbc",
        "id": "YTTSIkFtT8ZQ"
      },
      "source": [
        "# Se considera reviews del 2002 porque los años previos no tienen mucha información.\n",
        "beers_df = beers_df.loc[ beers_df[ 'review_time' ].dt.year >= 2002 ]"
      ],
      "execution_count": 10,
      "outputs": []
    },
    {
      "cell_type": "code",
      "metadata": {
        "_uuid": "02da814628f01ef41b21b7243621723484466912",
        "id": "1d-LMEgGT8ZS",
        "outputId": "d2dff211-42a7-4125-97d7-a0544c7acab8",
        "colab": {
          "base_uri": "https://localhost:8080/"
        }
      },
      "source": [
        "beers_df.shape"
      ],
      "execution_count": 11,
      "outputs": [
        {
          "output_type": "execute_result",
          "data": {
            "text/plain": [
              "(1584276, 13)"
            ]
          },
          "metadata": {
            "tags": []
          },
          "execution_count": 11
        }
      ]
    },
    {
      "cell_type": "code",
      "metadata": {
        "_uuid": "20abde8c9a9c875bad80b511e343e9de93ef4305",
        "id": "LMdhaZe8T8ZV",
        "outputId": "e7abe505-0d01-402f-c08f-8a56715d5d88",
        "colab": {
          "base_uri": "https://localhost:8080/",
          "height": 350
        }
      },
      "source": [
        "group_by_date = beers_df[ [ 'review_time' ] ].groupby( beers_df[ 'review_time' ].dt.date ).agg( [ 'count' ] )\n",
        "plt.figure( figsize = ( 20, 5 ) )\n",
        "plt.plot( group_by_date )\n",
        "plt.xlabel( 'Date' )\n",
        "plt.ylabel( 'Número de reviews' )\n",
        "plt.title( 'Número of Reviews por Día' )\n",
        "plt.show()"
      ],
      "execution_count": 12,
      "outputs": [
        {
          "output_type": "display_data",
          "data": {
            "image/png": "[encoded data removed]",
            "text/plain": [
              "<Figure size 1440x360 with 1 Axes>"
            ]
          },
          "metadata": {
            "tags": [],
            "needs_background": "light"
          }
        }
      ]
    },
    {
      "cell_type": "code",
      "metadata": {
        "_uuid": "ecf6e980cd4534d5291a9e68353c2e6723d577ab",
        "id": "LzrxTp2cT8ZX",
        "outputId": "a4f0786d-38b3-4b62-f92f-4407b4a867e5",
        "colab": {
          "base_uri": "https://localhost:8080/"
        }
      },
      "source": [
        "# Canitidad de Cervecerías (breweries) unicas => Problemas de integridad evidenciadas => Id no es considerada para el subscuente analisis\n",
        "print( 'Cervecerías -breweries- únicas' )\n",
        "print( 'By id:', beers_df[ 'brewery_id' ].nunique() )\n",
        "print( 'By name:', beers_df[ 'brewery_name' ].nunique() )"
      ],
      "execution_count": 13,
      "outputs": [
        {
          "output_type": "stream",
          "text": [
            "Cervecerías -breweries- únicas\n",
            "By id: 5835\n",
            "By name: 5737\n"
          ],
          "name": "stdout"
        }
      ]
    },
    {
      "cell_type": "code",
      "metadata": {
        "_uuid": "ee29c7a6aebe80a5d49b7c01fbd6744af9a400e1",
        "id": "3Qz_usrLT8ZZ",
        "outputId": "9a60005b-ac10-4e14-c898-7b105c485173",
        "colab": {
          "base_uri": "https://localhost:8080/"
        }
      },
      "source": [
        "# Cantidad unica de cervezas => Integrity issues evidenced => Id is not considered for subsequent analysis\n",
        "print( 'Cervezas - beers - únicas' )\n",
        "print( 'By id:', beers_df[ 'beer_beerid' ].nunique() )\n",
        "print( 'By name:', beers_df[ 'beer_name' ].nunique() )"
      ],
      "execution_count": 14,
      "outputs": [
        {
          "output_type": "stream",
          "text": [
            "Cervezas - beers - únicas\n",
            "By id: 65915\n",
            "By name: 56748\n"
          ],
          "name": "stdout"
        }
      ]
    },
    {
      "cell_type": "code",
      "metadata": {
        "_uuid": "6fc9b66b4ce66e130591ff1be3ad461eacd8ccf3",
        "id": "9MiVGQd_T8Zc",
        "outputId": "ae3c8bc9-a7c1-42b1-e96a-fe77aa6c24c7",
        "colab": {
          "base_uri": "https://localhost:8080/"
        }
      },
      "source": [
        "# Cantidad de usuarios únicos\n",
        "print( 'Usuarios unicos:', beers_df[ 'review_profilename' ].nunique() )\n",
        "print( 'Usuarios unicos con mas d 1 review:', beers_df[ 'review_profilename' ].value_counts()[ beers_df[ 'review_profilename' ].value_counts() > 1 ].shape[ 0 ], '-' , str( round( beers_df[ 'review_profilename' ].value_counts()[ beers_df[ 'review_profilename' ].value_counts() > 1 ].shape[ 0 ] / beers_df[ 'review_profilename' ].nunique(), 2 ) * 100 ) + '%' )"
      ],
      "execution_count": 15,
      "outputs": [
        {
          "output_type": "stream",
          "text": [
            "Usuarios unicos: 33374\n",
            "Usuarios unicos con mas d 1 review: 22934 - 69.0%\n"
          ],
          "name": "stdout"
        }
      ]
    },
    {
      "cell_type": "code",
      "metadata": {
        "_uuid": "89a7ee97b0b1c9ba8ca180de0f4560d7264cf809",
        "id": "TP4yPw20T8Ze",
        "outputId": "10ff78b3-7740-425e-fc1f-1f4997f3298f",
        "colab": {
          "base_uri": "https://localhost:8080/"
        }
      },
      "source": [
        "# Reviews por user\n",
        "beers_df[ 'review_profilename' ].value_counts().head()"
      ],
      "execution_count": 16,
      "outputs": [
        {
          "output_type": "execute_result",
          "data": {
            "text/plain": [
              "northyorksammy    5817\n",
              "BuckeyeNation     4661\n",
              "mikesgroove       4617\n",
              "Thorpe429         3518\n",
              "womencantsail     3497\n",
              "Name: review_profilename, dtype: int64"
            ]
          },
          "metadata": {
            "tags": []
          },
          "execution_count": 16
        }
      ]
    },
    {
      "cell_type": "code",
      "metadata": {
        "_uuid": "c67ffe6aec3931672eca4d10ce31884d604b81ac",
        "id": "t5sUghrgT8Zh"
      },
      "source": [
        "#  Un subset de Cervezas quitando información de reviews es creada \n",
        "grouped_beers_df = beers_df[ [ 'beer_name', 'brewery_name', 'beer_style', 'beer_abv' ] ].drop_duplicates()"
      ],
      "execution_count": 17,
      "outputs": []
    },
    {
      "cell_type": "code",
      "metadata": {
        "_uuid": "444472e077a5a99e42e20dd3069749d468d41f29",
        "id": "ikh6y8G_T8Zj",
        "outputId": "a4eac51b-70fc-42a3-9af2-71f2d1a5b049",
        "colab": {
          "base_uri": "https://localhost:8080/"
        }
      },
      "source": [
        "# cantidad de cervezas unicas en datset agrupadas =>   Problemas de integridad evidenciadas con respecto al analisis previo => Para id de Cerveza, se usaran ess 4 claves\n",
        "grouped_beers_df.shape"
      ],
      "execution_count": 18,
      "outputs": [
        {
          "output_type": "execute_result",
          "data": {
            "text/plain": [
              "(65728, 4)"
            ]
          },
          "metadata": {
            "tags": []
          },
          "execution_count": 18
        }
      ]
    },
    {
      "cell_type": "code",
      "metadata": {
        "_uuid": "fe6184792d8b9c8446463b0ef8b9463c05da09b7",
        "id": "Ejlns_dOT8Zl",
        "outputId": "fd330566-7247-48fe-9ef3-45bfbc7e3212",
        "colab": {
          "base_uri": "https://localhost:8080/"
        }
      },
      "source": [
        "# Cantidad de Cerveza con mismo nombre pero diferente Cervecería. style or AVB% Alcohol by Volumen o % de Alcohol\n",
        "grouped_beers_df.loc[ grouped_beers_df.duplicated( subset = [ 'beer_name' ], keep = False ) ].sort_values( by = 'beer_name'  ).shape"
      ],
      "execution_count": 19,
      "outputs": [
        {
          "output_type": "execute_result",
          "data": {
            "text/plain": [
              "(11600, 4)"
            ]
          },
          "metadata": {
            "tags": []
          },
          "execution_count": 19
        }
      ]
    },
    {
      "cell_type": "code",
      "metadata": {
        "_uuid": "5a236f9bf050863dd7fe2eefdd4215518d70d4ec",
        "id": "qyPjFWGHT8Zn",
        "outputId": "b125dabe-73af-4f65-a6f3-c4f4a0ec98b1",
        "colab": {
          "base_uri": "https://localhost:8080/"
        }
      },
      "source": [
        "# Cervezas por Cervecería (Brewery)\n",
        "grouped_beers_df[ 'brewery_name' ].value_counts( dropna = False ).head()"
      ],
      "execution_count": 20,
      "outputs": [
        {
          "output_type": "execute_result",
          "data": {
            "text/plain": [
              "Rock Bottom Restaurant & Brewery      875\n",
              "John Harvard's Brewery & Ale House    390\n",
              "Goose Island Beer Co.                 368\n",
              "Iron Hill Brewery & Restaurant        316\n",
              "Minneapolis Town Hall Brewery         312\n",
              "Name: brewery_name, dtype: int64"
            ]
          },
          "metadata": {
            "tags": []
          },
          "execution_count": 20
        }
      ]
    },
    {
      "cell_type": "code",
      "metadata": {
        "_uuid": "6fae5487ec1c685f8982495ad613a4690bf1cd57",
        "id": "zzNivO2mT8Zq",
        "outputId": "331ea7e4-5e37-4a35-e53c-3d7abd379579",
        "colab": {
          "base_uri": "https://localhost:8080/"
        }
      },
      "source": [
        "# Cervveza por Estilo - Beers by style\n",
        "grouped_beers_df[ 'beer_style' ].value_counts( dropna = False ).head()"
      ],
      "execution_count": 21,
      "outputs": [
        {
          "output_type": "execute_result",
          "data": {
            "text/plain": [
              "American IPA                3592\n",
              "American Pale Ale (APA)     3311\n",
              "American Amber / Red Ale    2496\n",
              "American Porter             2180\n",
              "Fruit / Vegetable Beer      1826\n",
              "Name: beer_style, dtype: int64"
            ]
          },
          "metadata": {
            "tags": []
          },
          "execution_count": 21
        }
      ]
    },
    {
      "cell_type": "code",
      "metadata": {
        "_uuid": "9faebf2921bf2e1d4c78a8adb28a33663a16db66",
        "id": "7dJu_v5MT8Zt",
        "outputId": "57deff03-f947-43f5-a634-256a74dbb3f4",
        "colab": {
          "base_uri": "https://localhost:8080/",
          "height": 363
        }
      },
      "source": [
        "plt.figure()\n",
        "plt.hist( grouped_beers_df[ 'beer_abv' ], bins = 50 )\n",
        "plt.xlabel( 'ABV% Alcohol' )\n",
        "plt.ylabel( 'Frecuencia' )\n",
        "plt.title( 'Histograma por ABV% % de Alcohol' )\n",
        "#plt.yscale( 'log' )\n",
        "plt.show()"
      ],
      "execution_count": 22,
      "outputs": [
        {
          "output_type": "stream",
          "text": [
            "/usr/local/lib/python3.6/dist-packages/numpy/lib/histograms.py:839: RuntimeWarning: invalid value encountered in greater_equal\n",
            "  keep = (tmp_a >= first_edge)\n",
            "/usr/local/lib/python3.6/dist-packages/numpy/lib/histograms.py:840: RuntimeWarning: invalid value encountered in less_equal\n",
            "  keep &= (tmp_a <= last_edge)\n"
          ],
          "name": "stderr"
        },
        {
          "output_type": "display_data",
          "data": {
            "image/png": "[encoded data removed]",
            "text/plain": [
              "<Figure size 432x288 with 1 Axes>"
            ]
          },
          "metadata": {
            "tags": [],
            "needs_background": "light"
          }
        }
      ]
    },
    {
      "cell_type": "code",
      "metadata": {
        "_uuid": "77579001bafa6ee4c977128caa5068832f3799e0",
        "id": "P8gF7eX5T8Zw",
        "outputId": "b5477d75-a45f-469d-b55f-da722e890ba2",
        "colab": {
          "base_uri": "https://localhost:8080/",
          "height": 385
        }
      },
      "source": [
        "# Diagrama de correlación de Pearson - Pearson correlation\n",
        "sns.heatmap( beers_df[ [ 'review_overall', 'review_aroma', 'review_appearance', 'review_palate', 'review_taste', 'beer_abv' ] ].corr(), center = 0,  vmin = -1, vmax = 1 )\n",
        "plt.title( 'Pearson Correlation' )"
      ],
      "execution_count": 23,
      "outputs": [
        {
          "output_type": "execute_result",
          "data": {
            "text/plain": [
              "Text(0.5, 1.0, 'Pearson Correlation')"
            ]
          },
          "metadata": {
            "tags": []
          },
          "execution_count": 23
        },
        {
          "output_type": "display_data",
          "data": {
            "image/png": "[encoded data removed]",
            "text/plain": [
              "<Figure size 432x288 with 2 Axes>"
            ]
          },
          "metadata": {
            "tags": [],
            "needs_background": "light"
          }
        }
      ]
    },
    {
      "cell_type": "code",
      "metadata": {
        "_uuid": "9a8868a88e7f8cc4e3527d721503dc512801d65b",
        "id": "CBamtezuT8Zy",
        "outputId": "edbc720f-1914-4e58-c5b4-1cfecd2f91e6",
        "colab": {
          "base_uri": "https://localhost:8080/",
          "height": 385
        }
      },
      "source": [
        "# Diagrama de correlación de Spearman - Spearman correlation\n",
        "sns.heatmap( beers_df[ [ 'review_overall', 'review_aroma', 'review_appearance', 'review_palate', 'review_taste', 'beer_abv' ] ].corr( method = 'spearman' ), center = 0,  vmin = -1, vmax = 1 )\n",
        "plt.title( 'Spearman Correlation' )"
      ],
      "execution_count": 24,
      "outputs": [
        {
          "output_type": "execute_result",
          "data": {
            "text/plain": [
              "Text(0.5, 1.0, 'Spearman Correlation')"
            ]
          },
          "metadata": {
            "tags": []
          },
          "execution_count": 24
        },
        {
          "output_type": "display_data",
          "data": {
            "image/png": "[encoded data removed]",
            "text/plain": [
              "<Figure size 432x288 with 2 Axes>"
            ]
          },
          "metadata": {
            "tags": [],
            "needs_background": "light"
          }
        }
      ]
    },
    {
      "cell_type": "code",
      "metadata": {
        "_uuid": "b3dafafd77ada95f72fda197172df5ab26c4c044",
        "id": "RSmxmrrHT8Z1"
      },
      "source": [
        "# Se crea una nueva medida promediando la revisión por factor - An new meassure is created by averaging review by factor\n",
        "beers_df[ 'review_average' ] = round( ( ( beers_df[ 'review_overall' ] + beers_df[ 'review_aroma' ] + beers_df[ 'review_appearance' ] + beers_df[ 'review_palate' ] + beers_df[ 'review_taste' ] ) / 5 ) * 2 ) / 2"
      ],
      "execution_count": 25,
      "outputs": []
    },
    {
      "cell_type": "code",
      "metadata": {
        "_uuid": "add5a138cc9305e9a604e7ab89703c4f7f279e00",
        "id": "luVEdN6kT8Z4"
      },
      "source": [
        "# Agrupación por diferentes factores de revisión para fines de visualización - Groupping by different review factors for visualization purposes\n",
        "group_by_review_overall = beers_df[ 'review_overall' ].value_counts( dropna = False ).reset_index().rename( columns = { 'index' : 'review', 'review_overall' : 'overall' } ).sort_values( by = 'review' )\n",
        "group_by_review_aroma = beers_df[ 'review_aroma' ].value_counts( dropna = False ).reset_index().rename( columns = { 'index' : 'review', 'review_aroma' : 'aroma' } ).sort_values( by = 'review' )\n",
        "group_by_review_appearance = beers_df[ 'review_appearance' ].value_counts( dropna = False ).reset_index().rename( columns = { 'index' : 'review', 'review_appearance' : 'appearance' } ).sort_values( by = 'review' )\n",
        "group_by_review_palate = beers_df[ 'review_palate' ].value_counts( dropna = False ).reset_index().rename( columns = { 'index' : 'review', 'review_palate' : 'palate' } ).sort_values( by = 'review' )\n",
        "group_by_review_taste = beers_df[ 'review_taste' ].value_counts( dropna = False ).reset_index().rename( columns = { 'index' : 'review', 'review_taste' : 'taste' } ).sort_values( by = 'review' )\n",
        "group_by_review_average = beers_df[ 'review_average' ].value_counts( dropna = False ).reset_index().rename( columns = { 'index' : 'review', 'review_average' : 'average' } ).sort_values( by = 'review' )\n",
        "\n",
        "group_by_review_overall[ 'review' ] = group_by_review_overall[ 'review' ].astype( str )\n",
        "group_by_review_aroma[ 'review' ] = group_by_review_aroma[ 'review' ].astype( str )\n",
        "group_by_review_appearance[ 'review' ] = group_by_review_appearance[ 'review' ].astype( str )\n",
        "group_by_review_palate[ 'review' ] = group_by_review_palate[ 'review' ].astype( str )\n",
        "group_by_review_taste[ 'review' ] = group_by_review_taste[ 'review' ].astype( str )\n",
        "group_by_review_average[ 'review' ] = group_by_review_average[ 'review' ].astype( str )\n",
        "\n",
        "group_by_review = group_by_review_overall.merge( group_by_review_aroma, how = 'outer', on = [ 'review' ] )\n",
        "group_by_review = group_by_review.merge( group_by_review_appearance, how = 'outer', on = [ 'review' ] )\n",
        "group_by_review = group_by_review.merge( group_by_review_palate, how = 'outer', on = [ 'review' ] )\n",
        "group_by_review = group_by_review.merge( group_by_review_taste, how = 'outer', on = [ 'review' ] )\n",
        "group_by_review = group_by_review.merge( group_by_review_average, how = 'outer', on = [ 'review' ] )\n",
        "group_by_review = group_by_review.fillna( 0 )"
      ],
      "execution_count": 26,
      "outputs": []
    },
    {
      "cell_type": "code",
      "metadata": {
        "_uuid": "194874feafe58de2f88e1dcc8297462b78176ed2",
        "id": "5YVWHUOYT8Z7",
        "outputId": "0a681131-2966-446d-9784-14d5664f767c",
        "colab": {
          "base_uri": "https://localhost:8080/",
          "height": 680
        }
      },
      "source": [
        "cm = plt.cm.get_cmap( 'tab10' ).colors\n",
        "f, ( ( ax1, ax2, ax3 ), ( ax4, ax5, ax6 ) ) = plt.subplots( 2, 3, sharex = 'col', sharey = 'row', figsize = ( 17, 10 ) )\n",
        "ax1.barh( group_by_review[ 'review' ], group_by_review[ 'overall' ], color = cm )\n",
        "ax1.set_title( 'Review Overall' )\n",
        "ax2.barh( group_by_review[ 'review' ], group_by_review[ 'aroma' ], color = cm )\n",
        "ax2.set_title( 'Review Aroma' )\n",
        "ax3.barh( group_by_review[ 'review' ], group_by_review[ 'appearance' ], color = cm )\n",
        "ax3.set_title( 'Review Appearance' )\n",
        "ax4.barh( group_by_review[ 'review' ], group_by_review[ 'palate' ], color = cm )\n",
        "ax4.set_title( 'Review Palate' )\n",
        "ax5.barh( group_by_review[ 'review' ], group_by_review[ 'taste' ], color = cm )\n",
        "ax5.set_title( 'Review Taste' )\n",
        "ax6.barh( group_by_review[ 'review' ], group_by_review[ 'average' ], color = cm )\n",
        "ax6.set_title( 'Review Average' )\n",
        "f.suptitle( 'Distribution of Reviews by Value' )"
      ],
      "execution_count": 27,
      "outputs": [
        {
          "output_type": "execute_result",
          "data": {
            "text/plain": [
              "Text(0.5, 0.98, 'Distribution of Reviews by Value')"
            ]
          },
          "metadata": {
            "tags": []
          },
          "execution_count": 27
        },
        {
          "output_type": "display_data",
          "data": {
            "image/png": "[encoded data removed]",
            "text/plain": [
              "<Figure size 1224x720 with 6 Axes>"
            ]
          },
          "metadata": {
            "tags": [],
            "needs_background": "light"
          }
        }
      ]
    },
    {
      "cell_type": "markdown",
      "metadata": {
        "_uuid": "305f460a57e144f6cf713c536ad75aae8d65996f",
        "id": "BgzW5gGxT8aA"
      },
      "source": [
        "# Aggregating reviews"
      ]
    },
    {
      "cell_type": "code",
      "metadata": {
        "_uuid": "ed678e0d1f9442bb8d84bf903935214b0f3d263e",
        "id": "cSQMeA1RT8aA"
      },
      "source": [
        "# This is a python implementarion of the Lower bound of Wilson score confidence interval for a Bernoulli parameter\n",
        "# Implementation details: http://www.evanmiller.org/how-not-to-sort-by-average-rating.html?fbclid=IwAR2RNIB8geL9V0V9ereqidgRMasdytDOoqlGfCKWOcrRHKsUHFzMb7Xkemw\n",
        "\n",
        "# pos: number of positive ratings\n",
        "# n: total number of ratings\n",
        "def ci_lower_bound( pos, n ):\n",
        "    if n == 0:\n",
        "        return 0\n",
        "    z = 1.96 # For a IC of 0.95\n",
        "    phat = 1.0 * pos / n\n",
        "    return ( phat + ( z ** 2 ) / ( 2 * n ) - z * math.sqrt( ( phat * ( 1 - phat ) + ( z ** 2 ) / ( 4 * n ) ) / n ) ) / ( 1 + ( z ** 2 ) / n )"
      ],
      "execution_count": 28,
      "outputs": []
    },
    {
      "cell_type": "code",
      "metadata": {
        "_uuid": "16cab2b7b978f2e3a73a7fac6d77561961f54848",
        "id": "tZXiuP9bT8aC"
      },
      "source": [
        "# Aggregation function for reviews\n",
        "# Positive reviews are defined as a constant fraction of their real value\n",
        "# Aggregation is performed using the Lower bound of Wilson score confidence interval for a Bernoulli parameter\n",
        "def agg_reviews( reviews ):\n",
        "    pos = 0\n",
        "    for index, review in reviews[ reviews >= 3 ].iteritems():\n",
        "        pos += review / 5\n",
        "    #pos = ratings[ ratings >= 3 ].shape[ 0 ]\n",
        "    return ci_lower_bound( pos, reviews.shape[ 0 ] ) * 5"
      ],
      "execution_count": 29,
      "outputs": []
    },
    {
      "cell_type": "code",
      "metadata": {
        "_uuid": "5120e5e8088d88ac0eda3c0b47e911be79449585",
        "id": "CL9SKQPlT8aE"
      },
      "source": [
        "# Grouping beers and aggregating reviews\n",
        "grouped_beers_df = beers_df.groupby( [ 'beer_name', 'brewery_name', 'beer_style', 'beer_abv' ] ) \\\n",
        "    .agg( { 'review_overall' : agg_reviews, 'review_aroma' : agg_reviews, 'review_appearance' : agg_reviews, 'review_palate' : agg_reviews, 'review_taste' : agg_reviews, 'review_average' : agg_reviews, 'review_profilename' : 'count' } ).reset_index() \\\n",
        "    .rename( columns = { 'review_profilename' : 'number_of_reviews' } )"
      ],
      "execution_count": 30,
      "outputs": []
    },
    {
      "cell_type": "code",
      "metadata": {
        "_uuid": "a9be31d7c3fbd42e548e29d01f98ad8ae56e4552",
        "id": "q3V8EnFgT8aG",
        "outputId": "304b5dd6-2448-460f-f108-bc5ec6bb684b",
        "colab": {
          "base_uri": "https://localhost:8080/"
        }
      },
      "source": [
        "# Cantidad de cervezas unicas - Count of unique beers\n",
        "grouped_beers_df[ 'beer_name' ].nunique()"
      ],
      "execution_count": 31,
      "outputs": [
        {
          "output_type": "execute_result",
          "data": {
            "text/plain": [
              "44061"
            ]
          },
          "metadata": {
            "tags": []
          },
          "execution_count": 31
        }
      ]
    },
    {
      "cell_type": "code",
      "metadata": {
        "_uuid": "c6e3df37470acf627dbd036cebb1e227fb5bdba5",
        "id": "zsRF7iRMT8aJ",
        "outputId": "a7390abe-0841-4413-ec92-65c47cff82d6",
        "colab": {
          "base_uri": "https://localhost:8080/",
          "height": 204
        }
      },
      "source": [
        "# TOP 5 de Cervezas por numero de reviews - TOP 5 beers by number of reviews\n",
        "grouped_beers_df.sort_values( by = 'number_of_reviews', ascending = False ).head()"
      ],
      "execution_count": 32,
      "outputs": [
        {
          "output_type": "execute_result",
          "data": {
            "text/html": [
              "<div>\n",
              "<style scoped>\n",
              "    .dataframe tbody tr th:only-of-type {\n",
              "        vertical-align: middle;\n",
              "    }\n",
              "\n",
              "    .dataframe tbody tr th {\n",
              "        vertical-align: top;\n",
              "    }\n",
              "\n",
              "    .dataframe thead th {\n",
              "        text-align: right;\n",
              "    }\n",
              "</style>\n",
              "<table border=\"1\" class=\"dataframe\">\n",
              "  <thead>\n",
              "    <tr style=\"text-align: right;\">\n",
              "      <th></th>\n",
              "      <th>beer_name</th>\n",
              "      <th>brewery_name</th>\n",
              "      <th>beer_style</th>\n",
              "      <th>beer_abv</th>\n",
              "      <th>review_overall</th>\n",
              "      <th>review_aroma</th>\n",
              "      <th>review_appearance</th>\n",
              "      <th>review_palate</th>\n",
              "      <th>review_taste</th>\n",
              "      <th>review_average</th>\n",
              "      <th>number_of_reviews</th>\n",
              "    </tr>\n",
              "  </thead>\n",
              "  <tbody>\n",
              "    <tr>\n",
              "      <th>731</th>\n",
              "      <td>90 Minute IPA</td>\n",
              "      <td>Dogfish Head Brewery</td>\n",
              "      <td>American Double / Imperial IPA</td>\n",
              "      <td>9.0</td>\n",
              "      <td>4.020191</td>\n",
              "      <td>4.131679</td>\n",
              "      <td>4.121969</td>\n",
              "      <td>4.087696</td>\n",
              "      <td>4.223766</td>\n",
              "      <td>4.133715</td>\n",
              "      <td>3288</td>\n",
              "    </tr>\n",
              "    <tr>\n",
              "      <th>31841</th>\n",
              "      <td>Old Rasputin Russian Imperial Stout</td>\n",
              "      <td>North Coast Brewing Co.</td>\n",
              "      <td>Russian Imperial Stout</td>\n",
              "      <td>9.0</td>\n",
              "      <td>4.064484</td>\n",
              "      <td>4.116345</td>\n",
              "      <td>4.311672</td>\n",
              "      <td>4.145139</td>\n",
              "      <td>4.254089</td>\n",
              "      <td>4.188800</td>\n",
              "      <td>3097</td>\n",
              "    </tr>\n",
              "    <tr>\n",
              "      <th>39557</th>\n",
              "      <td>Sierra Nevada Celebration Ale</td>\n",
              "      <td>Sierra Nevada Brewing Co.</td>\n",
              "      <td>American IPA</td>\n",
              "      <td>6.8</td>\n",
              "      <td>4.054146</td>\n",
              "      <td>3.988222</td>\n",
              "      <td>4.150608</td>\n",
              "      <td>3.974983</td>\n",
              "      <td>4.080001</td>\n",
              "      <td>4.046394</td>\n",
              "      <td>2986</td>\n",
              "    </tr>\n",
              "    <tr>\n",
              "      <th>45123</th>\n",
              "      <td>Two Hearted Ale</td>\n",
              "      <td>Bell's Brewery, Inc.</td>\n",
              "      <td>American IPA</td>\n",
              "      <td>7.0</td>\n",
              "      <td>4.240870</td>\n",
              "      <td>4.186700</td>\n",
              "      <td>4.071694</td>\n",
              "      <td>4.046744</td>\n",
              "      <td>4.234592</td>\n",
              "      <td>4.168100</td>\n",
              "      <td>2726</td>\n",
              "    </tr>\n",
              "    <tr>\n",
              "      <th>41835</th>\n",
              "      <td>Stone Ruination IPA</td>\n",
              "      <td>Stone Brewing Co.</td>\n",
              "      <td>American Double / Imperial IPA</td>\n",
              "      <td>7.7</td>\n",
              "      <td>4.040809</td>\n",
              "      <td>4.264611</td>\n",
              "      <td>4.099740</td>\n",
              "      <td>4.099167</td>\n",
              "      <td>4.257311</td>\n",
              "      <td>4.165487</td>\n",
              "      <td>2702</td>\n",
              "    </tr>\n",
              "  </tbody>\n",
              "</table>\n",
              "</div>"
            ],
            "text/plain": [
              "                                 beer_name               brewery_name  \\\n",
              "731                          90 Minute IPA       Dogfish Head Brewery   \n",
              "31841  Old Rasputin Russian Imperial Stout    North Coast Brewing Co.   \n",
              "39557        Sierra Nevada Celebration Ale  Sierra Nevada Brewing Co.   \n",
              "45123                      Two Hearted Ale       Bell's Brewery, Inc.   \n",
              "41835                  Stone Ruination IPA          Stone Brewing Co.   \n",
              "\n",
              "                           beer_style  beer_abv  review_overall  review_aroma  \\\n",
              "731    American Double / Imperial IPA       9.0        4.020191      4.131679   \n",
              "31841          Russian Imperial Stout       9.0        4.064484      4.116345   \n",
              "39557                    American IPA       6.8        4.054146      3.988222   \n",
              "45123                    American IPA       7.0        4.240870      4.186700   \n",
              "41835  American Double / Imperial IPA       7.7        4.040809      4.264611   \n",
              "\n",
              "       review_appearance  review_palate  review_taste  review_average  \\\n",
              "731             4.121969       4.087696      4.223766        4.133715   \n",
              "31841           4.311672       4.145139      4.254089        4.188800   \n",
              "39557           4.150608       3.974983      4.080001        4.046394   \n",
              "45123           4.071694       4.046744      4.234592        4.168100   \n",
              "41835           4.099740       4.099167      4.257311        4.165487   \n",
              "\n",
              "       number_of_reviews  \n",
              "731                 3288  \n",
              "31841               3097  \n",
              "39557               2986  \n",
              "45123               2726  \n",
              "41835               2702  "
            ]
          },
          "metadata": {
            "tags": []
          },
          "execution_count": 32
        }
      ]
    },
    {
      "cell_type": "markdown",
      "metadata": {
        "_uuid": "4cabf485a4d79735810a6b88620defd8e65b4688",
        "id": "WX_vRx6fT8aL"
      },
      "source": [
        "#  Que Cervecería produce la Cerveza más fuerte por % de Alcohol - ABV%?"
      ]
    },
    {
      "cell_type": "code",
      "metadata": {
        "_uuid": "475d6769a3133d16e1e8da50a4715b98abd12e0c",
        "id": "yphTXSgQT8aL",
        "outputId": "b5bba2f8-e1ba-4e11-e2b4-2c290769d2d5",
        "colab": {
          "base_uri": "https://localhost:8080/",
          "height": 266
        }
      },
      "source": [
        "# Cerveza con % de Alcohol (ABV% )mayor a 30 \n",
        "grouped_beers_df.loc[ grouped_beers_df[ 'beer_abv' ] > 30 ] \\\n",
        "    .sort_values( by = [ 'beer_abv' ], ascending = False )[ [ 'brewery_name', 'beer_name', 'beer_abv' ] ]"
      ],
      "execution_count": 33,
      "outputs": [
        {
          "output_type": "execute_result",
          "data": {
            "text/html": [
              "<div>\n",
              "<style scoped>\n",
              "    .dataframe tbody tr th:only-of-type {\n",
              "        vertical-align: middle;\n",
              "    }\n",
              "\n",
              "    .dataframe tbody tr th {\n",
              "        vertical-align: top;\n",
              "    }\n",
              "\n",
              "    .dataframe thead th {\n",
              "        text-align: right;\n",
              "    }\n",
              "</style>\n",
              "<table border=\"1\" class=\"dataframe\">\n",
              "  <thead>\n",
              "    <tr style=\"text-align: right;\">\n",
              "      <th></th>\n",
              "      <th>brewery_name</th>\n",
              "      <th>beer_name</th>\n",
              "      <th>beer_abv</th>\n",
              "    </tr>\n",
              "  </thead>\n",
              "  <tbody>\n",
              "    <tr>\n",
              "      <th>38654</th>\n",
              "      <td>Schorschbräu</td>\n",
              "      <td>Schorschbräu Schorschbock 57%</td>\n",
              "      <td>57.70</td>\n",
              "    </tr>\n",
              "    <tr>\n",
              "      <th>38653</th>\n",
              "      <td>Schorschbräu</td>\n",
              "      <td>Schorschbräu Schorschbock 43%</td>\n",
              "      <td>43.00</td>\n",
              "    </tr>\n",
              "    <tr>\n",
              "      <th>39782</th>\n",
              "      <td>BrewDog</td>\n",
              "      <td>Sink The Bismarck!</td>\n",
              "      <td>41.00</td>\n",
              "    </tr>\n",
              "    <tr>\n",
              "      <th>38652</th>\n",
              "      <td>Schorschbräu</td>\n",
              "      <td>Schorschbräu Schorschbock 40%</td>\n",
              "      <td>39.44</td>\n",
              "    </tr>\n",
              "    <tr>\n",
              "      <th>5796</th>\n",
              "      <td>De Struise Brouwers</td>\n",
              "      <td>Black Damnation VI - Messy</td>\n",
              "      <td>39.00</td>\n",
              "    </tr>\n",
              "    <tr>\n",
              "      <th>42915</th>\n",
              "      <td>BrewDog</td>\n",
              "      <td>Tactical Nuclear Penguin</td>\n",
              "      <td>32.00</td>\n",
              "    </tr>\n",
              "    <tr>\n",
              "      <th>38651</th>\n",
              "      <td>Schorschbräu</td>\n",
              "      <td>Schorschbräu Schorschbock 31%</td>\n",
              "      <td>30.86</td>\n",
              "    </tr>\n",
              "  </tbody>\n",
              "</table>\n",
              "</div>"
            ],
            "text/plain": [
              "              brewery_name                      beer_name  beer_abv\n",
              "38654         Schorschbräu  Schorschbräu Schorschbock 57%     57.70\n",
              "38653         Schorschbräu  Schorschbräu Schorschbock 43%     43.00\n",
              "39782              BrewDog             Sink The Bismarck!     41.00\n",
              "38652         Schorschbräu  Schorschbräu Schorschbock 40%     39.44\n",
              "5796   De Struise Brouwers     Black Damnation VI - Messy     39.00\n",
              "42915              BrewDog       Tactical Nuclear Penguin     32.00\n",
              "38651         Schorschbräu  Schorschbräu Schorschbock 31%     30.86"
            ]
          },
          "metadata": {
            "tags": []
          },
          "execution_count": 33
        }
      ]
    },
    {
      "cell_type": "markdown",
      "metadata": {
        "_uuid": "46691edec1c9ceb95b8fbbc2139480142c61e610",
        "id": "MvL2R4B5T8aN"
      },
      "source": [
        "Schorschbräu es la Cervecería que produce la cerveza con porcentaje más alto de alcohol (ABV%), seguido de BrewDog y De Struise Brouwers."
      ]
    },
    {
      "cell_type": "markdown",
      "metadata": {
        "_uuid": "14cd026d2f2fc08b45a536915b0f3c478e2f52e4",
        "id": "4shkKZq0T8aN"
      },
      "source": [
        "# Si tuvieras que elegir 3 cervezas para recomendar basado solo en estos datos, ¿cuál elegirías?"
      ]
    },
    {
      "cell_type": "markdown",
      "metadata": {
        "_uuid": "e7263da27c108f7ad15d03ad2bb4fcca9837625e",
        "id": "J2a-OE_QT8aO"
      },
      "source": [
        "Las reseñas después de la agrupación están en función de las reseñas individuales de cada usuario y del número de reseñas de esa cerveza. Las cervezas con muchas calificaciones individuales altas probablemente tendrán una calificación agrupada alta.\n",
        "\n"
      ]
    },
    {
      "cell_type": "code",
      "metadata": {
        "_uuid": "00bb4962578c04c4dfe36ed6e307036a9180c880",
        "id": "7BbsLvE8T8aO",
        "outputId": "18e48a0e-8900-4825-d3e1-e20dcaa51616",
        "colab": {
          "base_uri": "https://localhost:8080/",
          "height": 334
        }
      },
      "source": [
        "plt.figure( figsize = ( 7, 5 ) )\n",
        "plt.scatter( grouped_beers_df[ 'number_of_reviews' ], grouped_beers_df[ 'review_average' ], marker ='.', alpha = .5 )\n",
        "plt.xlabel( 'Numbero de Reseñas' )\n",
        "plt.ylabel( 'Promedio de Reseñas' )\n",
        "plt.show()"
      ],
      "execution_count": 34,
      "outputs": [
        {
          "output_type": "display_data",
          "data": {
            "image/png": "[encoded data removed]",
            "text/plain": [
              "<Figure size 504x360 with 1 Axes>"
            ]
          },
          "metadata": {
            "tags": [],
            "needs_background": "light"
          }
        }
      ]
    },
    {
      "cell_type": "code",
      "metadata": {
        "_uuid": "05e36bcc83a2cb39f12ac1c242ddbf3383955142",
        "id": "hdiiTxqnT8aQ",
        "outputId": "f2aea316-9e3d-409c-8b07-c481cd9707c1",
        "colab": {
          "base_uri": "https://localhost:8080/",
          "height": 142
        }
      },
      "source": [
        "grouped_beers_df.sort_values( by = 'review_average', ascending = False ).head( 3 )"
      ],
      "execution_count": 35,
      "outputs": [
        {
          "output_type": "execute_result",
          "data": {
            "text/html": [
              "<div>\n",
              "<style scoped>\n",
              "    .dataframe tbody tr th:only-of-type {\n",
              "        vertical-align: middle;\n",
              "    }\n",
              "\n",
              "    .dataframe tbody tr th {\n",
              "        vertical-align: top;\n",
              "    }\n",
              "\n",
              "    .dataframe thead th {\n",
              "        text-align: right;\n",
              "    }\n",
              "</style>\n",
              "<table border=\"1\" class=\"dataframe\">\n",
              "  <thead>\n",
              "    <tr style=\"text-align: right;\">\n",
              "      <th></th>\n",
              "      <th>beer_name</th>\n",
              "      <th>brewery_name</th>\n",
              "      <th>beer_style</th>\n",
              "      <th>beer_abv</th>\n",
              "      <th>review_overall</th>\n",
              "      <th>review_aroma</th>\n",
              "      <th>review_appearance</th>\n",
              "      <th>review_palate</th>\n",
              "      <th>review_taste</th>\n",
              "      <th>review_average</th>\n",
              "      <th>number_of_reviews</th>\n",
              "    </tr>\n",
              "  </thead>\n",
              "  <tbody>\n",
              "    <tr>\n",
              "      <th>44523</th>\n",
              "      <td>Trappist Westvleteren 12</td>\n",
              "      <td>Brouwerij Westvleteren (Sint-Sixtusabdij van W...</td>\n",
              "      <td>Quadrupel (Quad)</td>\n",
              "      <td>10.2</td>\n",
              "      <td>4.530716</td>\n",
              "      <td>4.495034</td>\n",
              "      <td>4.354817</td>\n",
              "      <td>4.539659</td>\n",
              "      <td>4.646554</td>\n",
              "      <td>4.524758</td>\n",
              "      <td>1272</td>\n",
              "    </tr>\n",
              "    <tr>\n",
              "      <th>34257</th>\n",
              "      <td>Pliny The Younger</td>\n",
              "      <td>Russian River Brewing Company</td>\n",
              "      <td>American Double / Imperial IPA</td>\n",
              "      <td>11.0</td>\n",
              "      <td>4.474180</td>\n",
              "      <td>4.618422</td>\n",
              "      <td>4.349282</td>\n",
              "      <td>4.492465</td>\n",
              "      <td>4.615607</td>\n",
              "      <td>4.523674</td>\n",
              "      <td>610</td>\n",
              "    </tr>\n",
              "    <tr>\n",
              "      <th>34256</th>\n",
              "      <td>Pliny The Elder</td>\n",
              "      <td>Russian River Brewing Company</td>\n",
              "      <td>American Double / Imperial IPA</td>\n",
              "      <td>8.0</td>\n",
              "      <td>4.525157</td>\n",
              "      <td>4.555939</td>\n",
              "      <td>4.317931</td>\n",
              "      <td>4.380363</td>\n",
              "      <td>4.569367</td>\n",
              "      <td>4.478398</td>\n",
              "      <td>2527</td>\n",
              "    </tr>\n",
              "  </tbody>\n",
              "</table>\n",
              "</div>"
            ],
            "text/plain": [
              "                      beer_name  \\\n",
              "44523  Trappist Westvleteren 12   \n",
              "34257         Pliny The Younger   \n",
              "34256           Pliny The Elder   \n",
              "\n",
              "                                            brewery_name  \\\n",
              "44523  Brouwerij Westvleteren (Sint-Sixtusabdij van W...   \n",
              "34257                      Russian River Brewing Company   \n",
              "34256                      Russian River Brewing Company   \n",
              "\n",
              "                           beer_style  beer_abv  review_overall  review_aroma  \\\n",
              "44523                Quadrupel (Quad)      10.2        4.530716      4.495034   \n",
              "34257  American Double / Imperial IPA      11.0        4.474180      4.618422   \n",
              "34256  American Double / Imperial IPA       8.0        4.525157      4.555939   \n",
              "\n",
              "       review_appearance  review_palate  review_taste  review_average  \\\n",
              "44523           4.354817       4.539659      4.646554        4.524758   \n",
              "34257           4.349282       4.492465      4.615607        4.523674   \n",
              "34256           4.317931       4.380363      4.569367        4.478398   \n",
              "\n",
              "       number_of_reviews  \n",
              "44523               1272  \n",
              "34257                610  \n",
              "34256               2527  "
            ]
          },
          "metadata": {
            "tags": []
          },
          "execution_count": 35
        }
      ]
    },
    {
      "cell_type": "markdown",
      "metadata": {
        "_uuid": "ddbf72ce9ba3497ab603de9a9c1751ba549e1057",
        "id": "TalpP34lT8aS"
      },
      "source": [
        "Estas son las 3 cervezas con mayor promedio de reseñas. Como era de esperar, estas cervezas también cuentan con un importante número de reseñas"
      ]
    },
    {
      "cell_type": "markdown",
      "metadata": {
        "_uuid": "de0e0812e3b0ac892cf9b5889fc0d3977f37c15c",
        "id": "bkFXeJp2T8aS"
      },
      "source": [
        "# ¿Cuáles de los factores (aroma, sabor, apariencia, paladar) son más importantes para determinar la calidad general de una cerveza?"
      ]
    },
    {
      "cell_type": "markdown",
      "metadata": {
        "_uuid": "b928281717cdb5e37f335b6850b31ddc5ca5195a",
        "id": "--dYQPPAT8aT"
      },
      "source": [
        "En términos de correlación (pearson o spearman), la clasificación parece ser: sabor, paladar, aroma y apariencia. \n",
        "\n",
        "Una perspectiva más sofisticada puede ser entrenar un modelo de regresión lineal."
      ]
    },
    {
      "cell_type": "code",
      "metadata": {
        "_uuid": "a7969c0f51a4a85047168944d747a2f7a9e63a85",
        "id": "w9xWZ16PT8aT"
      },
      "source": [
        "# Defining the linear model\n",
        "linear_model = LinearRegression( normalize = True )"
      ],
      "execution_count": 36,
      "outputs": []
    },
    {
      "cell_type": "code",
      "metadata": {
        "_uuid": "71199525a1fb0dd2c68515c4b339cbf801782f7b",
        "id": "gjpZ7DJ9T8aW"
      },
      "source": [
        "#  Entrenamiento y generación de predicciones para el modelo\n",
        "linear_model.fit( X = beers_df[ [ 'review_aroma', 'review_appearance', 'review_palate', 'review_taste' ] ], y = beers_df[ 'review_overall' ] )\n",
        "preds = linear_model.predict( beers_df[ [ 'review_aroma', 'review_appearance', 'review_palate', 'review_taste' ] ] )"
      ],
      "execution_count": 37,
      "outputs": []
    },
    {
      "cell_type": "code",
      "metadata": {
        "_uuid": "068dc306dac8d2ea36664dfdf3695fbbcb7409a3",
        "id": "kTKuJLqJT8aY",
        "outputId": "fd9de889-5a8f-49df-dfee-0c32f81eba38",
        "colab": {
          "base_uri": "https://localhost:8080/"
        }
      },
      "source": [
        "# Coeficientes para cada característica (aroma, apariencia, paladar, gusto)\n",
        "linear_model.coef_"
      ],
      "execution_count": 38,
      "outputs": [
        {
          "output_type": "execute_result",
          "data": {
            "text/plain": [
              "array([0.04775205, 0.03561118, 0.25846474, 0.55172152])"
            ]
          },
          "metadata": {
            "tags": []
          },
          "execution_count": 38
        }
      ]
    },
    {
      "cell_type": "code",
      "metadata": {
        "_uuid": "316e8158b945bce7544a7b4acff72b5e57e4e4ff",
        "id": "vuLwvDW2T8ab",
        "outputId": "b03efebe-60c5-459b-c06e-437b067d916b",
        "colab": {
          "base_uri": "https://localhost:8080/"
        }
      },
      "source": [
        "# Validando el error en el modelo\n",
        "# Aparentemente, un modelo lineal es suficiente para representar el fenómeno evidenciando un error global de 0.42 cuando el rango de valores posibles para el objetivo está entre 0 y 5\n",
        "# Deben desarrollarse los esquemas de validación más sofisticados\n",
        "np.sqrt( mean_squared_error( beers_df[ 'review_overall' ], preds ) )"
      ],
      "execution_count": 39,
      "outputs": [
        {
          "output_type": "execute_result",
          "data": {
            "text/plain": [
              "0.42136593232122704"
            ]
          },
          "metadata": {
            "tags": []
          },
          "execution_count": 39
        }
      ]
    },
    {
      "cell_type": "markdown",
      "metadata": {
        "_uuid": "bf513623b6702593d945578f55132f7fd5daf5be",
        "id": "dbofJeb4T8ac"
      },
      "source": [
        "De manera similar a los resultados por correlación, los coeficientes que aportan más información al modelo son los correspondientes a características gustativas y aromáticas."
      ]
    },
    {
      "cell_type": "markdown",
      "metadata": {
        "_uuid": "f7ca47b6f88b41462aad922269a5338c9a9635b0",
        "id": "QDfW8SiMT8ag"
      },
      "source": [
        "# Si normalmente disfruto de una cerveza debido a su aroma y apariencia, ¿qué estilo de cerveza debo probar?"
      ]
    },
    {
      "cell_type": "markdown",
      "metadata": {
        "_uuid": "84cb1c971e8c6230a3a736cc4b35c75c21692c38",
        "id": "lETCnrKjT8ah"
      },
      "source": [
        "Estos son los estilos de cerveza para el top 10 de cervezas con más reseñas de aroma y apariencia."
      ]
    },
    {
      "cell_type": "code",
      "metadata": {
        "_uuid": "ae93dbce181ef62f8c73a6184465491fbb375ff5",
        "id": "nhKegBBRT8ah",
        "outputId": "e723de85-fe71-4de2-c602-280f5fc1165a",
        "colab": {
          "base_uri": "https://localhost:8080/"
        }
      },
      "source": [
        "grouped_beers_df.sort_values( by = [ 'review_aroma', 'review_appearance' ], ascending = False ).head( 10 ) \\\n",
        "    [ 'beer_style' ].unique().tolist()"
      ],
      "execution_count": 40,
      "outputs": [
        {
          "output_type": "execute_result",
          "data": {
            "text/plain": [
              "['American Double / Imperial IPA',\n",
              " 'American Double / Imperial Stout',\n",
              " 'Quadrupel (Quad)',\n",
              " 'Russian Imperial Stout']"
            ]
          },
          "metadata": {
            "tags": []
          },
          "execution_count": 40
        }
      ]
    },
    {
      "cell_type": "code",
      "metadata": {
        "_uuid": "c45f6219de86f30043501657eaf1e227868dab09",
        "id": "c9EiSoF7T8an"
      },
      "source": [
        "# Para exportar en html esta notebook\n",
        "# %%shell\n",
        "# upyter nbconvert --to html /content/recommending_beers.ipynb"
      ],
      "execution_count": null,
      "outputs": []
    }
  ]
}